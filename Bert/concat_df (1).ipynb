{
 "cells": [
  {
   "cell_type": "code",
   "execution_count": 20,
   "id": "36a2e2e4-4fef-4d97-a0ff-69c67e189237",
   "metadata": {
    "ExecuteTime": {
     "end_time": "2024-02-19T05:49:54.586292300Z",
     "start_time": "2024-02-19T05:49:54.583741900Z"
    }
   },
   "outputs": [],
   "source": [
    "import pandas as pd\n",
    "import numpy as np\n",
    "import regex as re"
   ]
  },
  {
   "cell_type": "code",
   "outputs": [],
   "source": [
    "dataset_location = \"/Users/Xutao/Documents/CR4CR/data/\""
   ],
   "metadata": {
    "collapsed": false,
    "ExecuteTime": {
     "end_time": "2024-02-19T05:49:54.596031800Z",
     "start_time": "2024-02-19T05:49:54.587292800Z"
    }
   },
   "id": "cb26391b468d5a2c",
   "execution_count": 21
  },
  {
   "cell_type": "code",
   "execution_count": 22,
   "id": "1af64a5a-8d2e-435d-aecf-8ee3ac52a59f",
   "metadata": {
    "ExecuteTime": {
     "end_time": "2024-02-19T05:49:54.672557600Z",
     "start_time": "2024-02-19T05:49:54.593030600Z"
    }
   },
   "outputs": [
    {
     "data": {
      "text/plain": "   Score                                      Market.00a_OE  \\\n24     3  Number of people inside the shop, number of pe...   \n26     0          what causes a door to open automatically.   \n27     1  How many people are going through the doors. H...   \n30     1  The groups of customers that might go in, the ...   \n34     1  How big is the store, as a team of constructio...   \n\n                                       Market.00bc_OE  \\\n24  Number of people inside the shop and number of...   \n26        what can cause a door to open automatically   \n27  How long it will take for everyone to go throu...   \n30                     customers that go in and leave   \n34  What does the owner want.\\nHow tall the store ...   \n\n                             Market.00bc_OE follow up  \n24  We will definitively need to know the amount o...  \n26  i think this piece of information is important...  \n27  We must know this information to decrease the ...  \n30  Because we need to how many customers go in, a...  \n34  This can impact how the finished product will ...  ",
      "text/html": "<div>\n<style scoped>\n    .dataframe tbody tr th:only-of-type {\n        vertical-align: middle;\n    }\n\n    .dataframe tbody tr th {\n        vertical-align: top;\n    }\n\n    .dataframe thead th {\n        text-align: right;\n    }\n</style>\n<table border=\"1\" class=\"dataframe\">\n  <thead>\n    <tr style=\"text-align: right;\">\n      <th></th>\n      <th>Score</th>\n      <th>Market.00a_OE</th>\n      <th>Market.00bc_OE</th>\n      <th>Market.00bc_OE follow up</th>\n    </tr>\n  </thead>\n  <tbody>\n    <tr>\n      <th>24</th>\n      <td>3</td>\n      <td>Number of people inside the shop, number of pe...</td>\n      <td>Number of people inside the shop and number of...</td>\n      <td>We will definitively need to know the amount o...</td>\n    </tr>\n    <tr>\n      <th>26</th>\n      <td>0</td>\n      <td>what causes a door to open automatically.</td>\n      <td>what can cause a door to open automatically</td>\n      <td>i think this piece of information is important...</td>\n    </tr>\n    <tr>\n      <th>27</th>\n      <td>1</td>\n      <td>How many people are going through the doors. H...</td>\n      <td>How long it will take for everyone to go throu...</td>\n      <td>We must know this information to decrease the ...</td>\n    </tr>\n    <tr>\n      <th>30</th>\n      <td>1</td>\n      <td>The groups of customers that might go in, the ...</td>\n      <td>customers that go in and leave</td>\n      <td>Because we need to how many customers go in, a...</td>\n    </tr>\n    <tr>\n      <th>34</th>\n      <td>1</td>\n      <td>How big is the store, as a team of constructio...</td>\n      <td>What does the owner want.\\nHow tall the store ...</td>\n      <td>This can impact how the finished product will ...</td>\n    </tr>\n  </tbody>\n</table>\n</div>"
     },
     "execution_count": 22,
     "metadata": {},
     "output_type": "execute_result"
    }
   ],
   "source": [
    "df1 = pd.read_excel(dataset_location + \"df1.xlsx\")\n",
    "df1 = df1[df1['Score'].isin(range(5))]\n",
    "df1 = df1.iloc[:,-4:]\n",
    "df1.head()"
   ]
  },
  {
   "cell_type": "code",
   "execution_count": 23,
   "id": "bef48e16-4573-48bc-87ce-873df776ec82",
   "metadata": {
    "ExecuteTime": {
     "end_time": "2024-02-19T05:49:54.776313200Z",
     "start_time": "2024-02-19T05:49:54.669557Z"
    }
   },
   "outputs": [
    {
     "data": {
      "text/plain": "   Score                                      Market.01a_OE  \\\n24     1  13 people inside the store.\\nA group of 5 peop...   \n26     0  a set of instructions to obtain an expected ou...   \n27     1                   The input should be  \"customer\".   \n30     1    The inputs would be people going in and leaving   \n34     1  If someone approaches the door then \\nTrue: Do...   \n\n                                        Market.01b_OE  \\\n24                 13+5 is not equal or lower than 15   \n26  instructions will be provided on how to handle...   \n27  This will have the automatic doors indicate if...   \n30  The process would be the peoples input and the...   \n34  Designing or buying a sensor for an automatic ...   \n\n                                        Market.01c_OE  \n24  The doors stay closed until 3 more people leav...  \n26  if it start raining the people waiting outside...  \n27  The output would be \"open\". \"open\" will have t...  \n30  the output would be the door opening or not be...  \n34  If someone approaches the door then \\nTrue: Do...  ",
      "text/html": "<div>\n<style scoped>\n    .dataframe tbody tr th:only-of-type {\n        vertical-align: middle;\n    }\n\n    .dataframe tbody tr th {\n        vertical-align: top;\n    }\n\n    .dataframe thead th {\n        text-align: right;\n    }\n</style>\n<table border=\"1\" class=\"dataframe\">\n  <thead>\n    <tr style=\"text-align: right;\">\n      <th></th>\n      <th>Score</th>\n      <th>Market.01a_OE</th>\n      <th>Market.01b_OE</th>\n      <th>Market.01c_OE</th>\n    </tr>\n  </thead>\n  <tbody>\n    <tr>\n      <th>24</th>\n      <td>1</td>\n      <td>13 people inside the store.\\nA group of 5 peop...</td>\n      <td>13+5 is not equal or lower than 15</td>\n      <td>The doors stay closed until 3 more people leav...</td>\n    </tr>\n    <tr>\n      <th>26</th>\n      <td>0</td>\n      <td>a set of instructions to obtain an expected ou...</td>\n      <td>instructions will be provided on how to handle...</td>\n      <td>if it start raining the people waiting outside...</td>\n    </tr>\n    <tr>\n      <th>27</th>\n      <td>1</td>\n      <td>The input should be  \"customer\".</td>\n      <td>This will have the automatic doors indicate if...</td>\n      <td>The output would be \"open\". \"open\" will have t...</td>\n    </tr>\n    <tr>\n      <th>30</th>\n      <td>1</td>\n      <td>The inputs would be people going in and leaving</td>\n      <td>The process would be the peoples input and the...</td>\n      <td>the output would be the door opening or not be...</td>\n    </tr>\n    <tr>\n      <th>34</th>\n      <td>1</td>\n      <td>If someone approaches the door then \\nTrue: Do...</td>\n      <td>Designing or buying a sensor for an automatic ...</td>\n      <td>If someone approaches the door then \\nTrue: Do...</td>\n    </tr>\n  </tbody>\n</table>\n</div>"
     },
     "execution_count": 23,
     "metadata": {},
     "output_type": "execute_result"
    }
   ],
   "source": [
    "df2 = pd.read_excel(dataset_location + \"df2.xlsx\")\n",
    "df2 = df2[df2['Score'].isin(range(5))]\n",
    "df2 = df2.iloc[:,-4:]\n",
    "df2.head()"
   ]
  },
  {
   "cell_type": "code",
   "execution_count": 24,
   "id": "5e6ea4a9-84a5-4b38-ba82-ba0f0ba27068",
   "metadata": {
    "ExecuteTime": {
     "end_time": "2024-02-19T05:49:54.915704700Z",
     "start_time": "2024-02-19T05:49:54.775311900Z"
    }
   },
   "outputs": [
    {
     "data": {
      "text/plain": "   Score.1                                      Market.00a_OE  \\\n1        3  Capacity limit, how many customers are in the ...   \n4        1  It would be important to know when groups are ...   \n5        2  how many people are in the store, how many peo...   \n7        2  You need to know the total capacity of the sto...   \n8        2            How many people are allowed in at once.   \n\n                                      Market.00bc_OE  \\\n1  Capacity limit, how many customers are in the ...   \n4  I think they're all important to keep as close...   \n5  the number of people in the store and the numb...   \n7  The stores total capacity, and group sizes tha...   \n8           How many people are allowed in the store   \n\n                            Market.00bc_OE follow up  \n1  We need to know how many people are in the sto...  \n4  They're important to know so that the flow of ...  \n5  these are both important in equal measure beca...  \n7  In order to successfully fill the empty space ...  \n8               It is the whole point of the program  ",
      "text/html": "<div>\n<style scoped>\n    .dataframe tbody tr th:only-of-type {\n        vertical-align: middle;\n    }\n\n    .dataframe tbody tr th {\n        vertical-align: top;\n    }\n\n    .dataframe thead th {\n        text-align: right;\n    }\n</style>\n<table border=\"1\" class=\"dataframe\">\n  <thead>\n    <tr style=\"text-align: right;\">\n      <th></th>\n      <th>Score.1</th>\n      <th>Market.00a_OE</th>\n      <th>Market.00bc_OE</th>\n      <th>Market.00bc_OE follow up</th>\n    </tr>\n  </thead>\n  <tbody>\n    <tr>\n      <th>1</th>\n      <td>3</td>\n      <td>Capacity limit, how many customers are in the ...</td>\n      <td>Capacity limit, how many customers are in the ...</td>\n      <td>We need to know how many people are in the sto...</td>\n    </tr>\n    <tr>\n      <th>4</th>\n      <td>1</td>\n      <td>It would be important to know when groups are ...</td>\n      <td>I think they're all important to keep as close...</td>\n      <td>They're important to know so that the flow of ...</td>\n    </tr>\n    <tr>\n      <th>5</th>\n      <td>2</td>\n      <td>how many people are in the store, how many peo...</td>\n      <td>the number of people in the store and the numb...</td>\n      <td>these are both important in equal measure beca...</td>\n    </tr>\n    <tr>\n      <th>7</th>\n      <td>2</td>\n      <td>You need to know the total capacity of the sto...</td>\n      <td>The stores total capacity, and group sizes tha...</td>\n      <td>In order to successfully fill the empty space ...</td>\n    </tr>\n    <tr>\n      <th>8</th>\n      <td>2</td>\n      <td>How many people are allowed in at once.</td>\n      <td>How many people are allowed in the store</td>\n      <td>It is the whole point of the program</td>\n    </tr>\n  </tbody>\n</table>\n</div>"
     },
     "execution_count": 24,
     "metadata": {},
     "output_type": "execute_result"
    }
   ],
   "source": [
    "df4 = pd.read_excel(dataset_location + \"df4.xlsx\", skiprows=[0,1])\n",
    "df4 = df4[[\"Score.1\", \"Market.00a_OE\", \"Market.00bc_OE\", \"Market.00bc_OE follow up\"]]\n",
    "df4 = df4[df4['Score.1'].isin(range(5))]\n",
    "df4[\"Score.1\"] = df4[\"Score.1\"].astype(int)\n",
    "df4.head()"
   ]
  },
  {
   "cell_type": "code",
   "outputs": [
    {
     "data": {
      "text/plain": "    Score                                      Market.00a_OE  \\\n6       0                                               sdfs   \n35      1  How is the door going to open? What will cause...   \n36      0                                 I don't Truly know   \n40      1  The size of the door, how it detects a person,...   \n43      3  We would need to know the amount of customers ...   \n\n                                        Market.00b_OE  \\\n6                                              sdfsdf   \n35                   What will cause the door to open   \n36                                 I don't Truly know   \n40                            How it detects a person   \n43  The size of the group entering next is probabl...   \n\n                                        Market.00c_OE  \n6                                               sfsdf  \n35  Because if we cannot figure out how something ...  \n36                                 I don't Truly know  \n40  The door will need to open to allow people ent...  \n43  In order to know if people are able to come in...  ",
      "text/html": "<div>\n<style scoped>\n    .dataframe tbody tr th:only-of-type {\n        vertical-align: middle;\n    }\n\n    .dataframe tbody tr th {\n        vertical-align: top;\n    }\n\n    .dataframe thead th {\n        text-align: right;\n    }\n</style>\n<table border=\"1\" class=\"dataframe\">\n  <thead>\n    <tr style=\"text-align: right;\">\n      <th></th>\n      <th>Score</th>\n      <th>Market.00a_OE</th>\n      <th>Market.00b_OE</th>\n      <th>Market.00c_OE</th>\n    </tr>\n  </thead>\n  <tbody>\n    <tr>\n      <th>6</th>\n      <td>0</td>\n      <td>sdfs</td>\n      <td>sdfsdf</td>\n      <td>sfsdf</td>\n    </tr>\n    <tr>\n      <th>35</th>\n      <td>1</td>\n      <td>How is the door going to open? What will cause...</td>\n      <td>What will cause the door to open</td>\n      <td>Because if we cannot figure out how something ...</td>\n    </tr>\n    <tr>\n      <th>36</th>\n      <td>0</td>\n      <td>I don't Truly know</td>\n      <td>I don't Truly know</td>\n      <td>I don't Truly know</td>\n    </tr>\n    <tr>\n      <th>40</th>\n      <td>1</td>\n      <td>The size of the door, how it detects a person,...</td>\n      <td>How it detects a person</td>\n      <td>The door will need to open to allow people ent...</td>\n    </tr>\n    <tr>\n      <th>43</th>\n      <td>3</td>\n      <td>We would need to know the amount of customers ...</td>\n      <td>The size of the group entering next is probabl...</td>\n      <td>In order to know if people are able to come in...</td>\n    </tr>\n  </tbody>\n</table>\n</div>"
     },
     "execution_count": 25,
     "metadata": {},
     "output_type": "execute_result"
    }
   ],
   "source": [
    "df_fall = pd.read_excel(dataset_location + \"Fall 23 Market.00abc_OEOEOE.xlsx\")\n",
    "\n",
    "df_fall = df_fall[df_fall[\"Cindy\"] == df_fall[\"Roderick\"]]\n",
    "df_fall[\"Score\"] = df_fall[\"Roderick\"].astype(int)\n",
    "df_fall = df_fall.rename(columns={\"Market.00bc_OE\":\"Market.00b_OE\", \"Market.00bc_OE follow up\":\"Market.00c_OE\"})\n",
    "\n",
    "df_fall = df_fall[df.columns]\n",
    "df_fall.head()"
   ],
   "metadata": {
    "collapsed": false,
    "ExecuteTime": {
     "end_time": "2024-02-19T05:49:55.045081500Z",
     "start_time": "2024-02-19T05:49:54.912706200Z"
    }
   },
   "id": "79f13040a04ae140",
   "execution_count": 25
  },
  {
   "cell_type": "code",
   "outputs": [
    {
     "name": "stdout",
     "output_type": "stream",
     "text": [
      "<class 'pandas.core.frame.DataFrame'>\n",
      "Index: 22 entries, 6 to 493\n",
      "Data columns (total 4 columns):\n",
      " #   Column         Non-Null Count  Dtype \n",
      "---  ------         --------------  ----- \n",
      " 0   Score          22 non-null     int32 \n",
      " 1   Market.00a_OE  21 non-null     object\n",
      " 2   Market.00b_OE  21 non-null     object\n",
      " 3   Market.00c_OE  21 non-null     object\n",
      "dtypes: int32(1), object(3)\n",
      "memory usage: 792.0+ bytes\n"
     ]
    }
   ],
   "source": [
    "df = pd.DataFrame(np.concatenate((df1.values, df4.values, df_fall.values), axis = 0))\n",
    "df.columns = [\"Score\", \"Market.00a_OE\",\"Market.00b_OE\",\"Market.00c_OE\"]\n",
    "df_fall.info()"
   ],
   "metadata": {
    "collapsed": false,
    "ExecuteTime": {
     "end_time": "2024-02-19T05:49:55.045586700Z",
     "start_time": "2024-02-19T05:49:55.040967600Z"
    }
   },
   "id": "2c8337a276c7679",
   "execution_count": 26
  },
  {
   "cell_type": "code",
   "outputs": [],
   "source": [],
   "metadata": {
    "collapsed": false,
    "ExecuteTime": {
     "end_time": "2024-02-19T05:49:55.049591100Z",
     "start_time": "2024-02-19T05:49:55.044447600Z"
    }
   },
   "id": "a1453af261c58cf8",
   "execution_count": 26
  },
  {
   "cell_type": "code",
   "execution_count": 27,
   "id": "58939ff9-d77c-4989-8034-208dab121bf5",
   "metadata": {
    "ExecuteTime": {
     "end_time": "2024-02-19T05:49:55.076436Z",
     "start_time": "2024-02-19T05:49:55.047590500Z"
    }
   },
   "outputs": [],
   "source": [
    "def preprocess_text(text):\n",
    "    # Lowercase the text\n",
    "    # text = text.lower()\n",
    "\n",
    "    text = re.sub(r'\\n', ' ', text)\n",
    "    #text = re.sub(r'^\\w+\\s*$', '',text)\n",
    "\n",
    "    # Replace multiple spaces with a single space\n",
    "    text = re.sub(r'\\s+', ' ', text)\n",
    "\n",
    "\n",
    "    return text\n",
    "\n",
    "\n",
    "# Ensure data types of responses are string\n",
    "for col in df.columns[1:]:\n",
    "  df[col] = df[col].astype(str).apply(preprocess_text)"
   ]
  },
  {
   "cell_type": "code",
   "execution_count": 28,
   "id": "b114c93a-802e-431f-9a0e-90dc646b6984",
   "metadata": {
    "ExecuteTime": {
     "end_time": "2024-02-19T05:49:55.077438Z",
     "start_time": "2024-02-19T05:49:55.062863500Z"
    }
   },
   "outputs": [
    {
     "data": {
      "text/plain": "  Score                                      Market.00a_OE  \\\n0     3  Number of people inside the shop, number of pe...   \n1     0          what causes a door to open automatically.   \n2     1  How many people are going through the doors. H...   \n3     1  The groups of customers that might go in, the ...   \n4     1  How big is the store, as a team of constructio...   \n\n                                       Market.00b_OE  \\\n0  Number of people inside the shop and number of...   \n1        what can cause a door to open automatically   \n2  How long it will take for everyone to go throu...   \n3                     customers that go in and leave   \n4  What does the owner want. How tall the store i...   \n\n                                       Market.00c_OE  \n0  We will definitively need to know the amount o...  \n1  i think this piece of information is important...  \n2  We must know this information to decrease the ...  \n3  Because we need to how many customers go in, a...  \n4  This can impact how the finished product will ...  ",
      "text/html": "<div>\n<style scoped>\n    .dataframe tbody tr th:only-of-type {\n        vertical-align: middle;\n    }\n\n    .dataframe tbody tr th {\n        vertical-align: top;\n    }\n\n    .dataframe thead th {\n        text-align: right;\n    }\n</style>\n<table border=\"1\" class=\"dataframe\">\n  <thead>\n    <tr style=\"text-align: right;\">\n      <th></th>\n      <th>Score</th>\n      <th>Market.00a_OE</th>\n      <th>Market.00b_OE</th>\n      <th>Market.00c_OE</th>\n    </tr>\n  </thead>\n  <tbody>\n    <tr>\n      <th>0</th>\n      <td>3</td>\n      <td>Number of people inside the shop, number of pe...</td>\n      <td>Number of people inside the shop and number of...</td>\n      <td>We will definitively need to know the amount o...</td>\n    </tr>\n    <tr>\n      <th>1</th>\n      <td>0</td>\n      <td>what causes a door to open automatically.</td>\n      <td>what can cause a door to open automatically</td>\n      <td>i think this piece of information is important...</td>\n    </tr>\n    <tr>\n      <th>2</th>\n      <td>1</td>\n      <td>How many people are going through the doors. H...</td>\n      <td>How long it will take for everyone to go throu...</td>\n      <td>We must know this information to decrease the ...</td>\n    </tr>\n    <tr>\n      <th>3</th>\n      <td>1</td>\n      <td>The groups of customers that might go in, the ...</td>\n      <td>customers that go in and leave</td>\n      <td>Because we need to how many customers go in, a...</td>\n    </tr>\n    <tr>\n      <th>4</th>\n      <td>1</td>\n      <td>How big is the store, as a team of constructio...</td>\n      <td>What does the owner want. How tall the store i...</td>\n      <td>This can impact how the finished product will ...</td>\n    </tr>\n  </tbody>\n</table>\n</div>"
     },
     "execution_count": 28,
     "metadata": {},
     "output_type": "execute_result"
    }
   ],
   "source": [
    "df.head()"
   ]
  },
  {
   "cell_type": "code",
   "execution_count": 29,
   "id": "14de38b0-bdfa-4bfe-890c-3235f0e32afd",
   "metadata": {
    "ExecuteTime": {
     "end_time": "2024-02-19T05:49:55.117209600Z",
     "start_time": "2024-02-19T05:49:55.067438500Z"
    }
   },
   "outputs": [],
   "source": [
    "df.to_excel(dataset_location + \"output.xlsx\")"
   ]
  },
  {
   "cell_type": "code",
   "outputs": [],
   "source": [],
   "metadata": {
    "collapsed": false,
    "ExecuteTime": {
     "end_time": "2024-02-19T05:49:55.117209600Z",
     "start_time": "2024-02-19T05:49:55.108700700Z"
    }
   },
   "id": "dd1485aa925fee3c",
   "execution_count": 29
  }
 ],
 "metadata": {
  "kernelspec": {
   "display_name": "Python 3 (ipykernel)",
   "language": "python",
   "name": "python3"
  },
  "language_info": {
   "codemirror_mode": {
    "name": "ipython",
    "version": 3
   },
   "file_extension": ".py",
   "mimetype": "text/x-python",
   "name": "python",
   "nbconvert_exporter": "python",
   "pygments_lexer": "ipython3",
   "version": "3.10.12"
  }
 },
 "nbformat": 4,
 "nbformat_minor": 5
}
